{
 "cells": [
  {
   "cell_type": "markdown",
   "metadata": {},
   "source": [
    "## Sparse Super Resolution \n",
    "Sparse super-resolution entails post-processing images of few sufficiently separated light sources to resolve their positions to a higher accuracy than that of the imaging device."
   ]
  },
  {
   "cell_type": "markdown",
   "metadata": {},
   "source": [
    "Let $k$ light sources be located at points $t_i \\in \\Omega$, where $\\Omega$ is a spatial domain bounded by the extremal measurements.  Each source has a positive amplitude $a_i$, so that the object may be modelled by a discrete measure, $$z = \\sum_{i = 1}^{k} a_i \\delta_{t_i}.$$ \n",
    "\n",
    "The measurement device is characterised by $m$ continuous functions $\\phi_j$, which aim to approximate the measurement device's PSF at a particular location $j$ so that measurements are given by the convolution,\n",
    "\n",
    "\\begin{align*}\n",
    "y_j = \\int_{\\Omega} \\phi_j(t)z(dt) = \\sum_{i=1}^k a_i \\phi_j(t_i), \\ j = 1, 2, \\dots m.\n",
    "\\end{align*}\n"
   ]
  },
  {
   "cell_type": "markdown",
   "metadata": {},
   "source": [
    "Writing $ \\textbf{y} = [y_1, y_2, \\dots y_m]^T$, $\\Phi = [\\phi_1(t), \\phi_2(t), \\dots \\phi_m(t)]^T$, the localisation problem is to find a sparse measure $\\hat{z} \\geq 0$, from the noisy measurements $\\textbf{y}$, which is achieved by solving,\n",
    "\n",
    "\\begin{align*}\n",
    "\\text{minimise}\\quad\\left\\|\\textbf{y} - \\int_{\\Omega} \\Phi(t) \\hat{z} ({\\rm d}t) \\right\\|_2,\n",
    "\\end{align*}\n",
    "\n",
    "subject to the support of $z$ in $\\Omega$.\n",
    " \n"
   ]
  },
  {
   "cell_type": "markdown",
   "metadata": {},
   "source": [
    "This may be rewritten as,\n",
    "\n",
    "\\begin{align*}\n",
    "\\text{minimise}\\quad\\left\\|\\textbf{y} - \\hat{\\Phi}\\hat{\\textbf{a}} \\right\\|_2,\n",
    "\\end{align*}\n",
    "\n",
    "where the hat notation is used to denote estimates of the values charactering the object of interest and $\\hat{\\Phi} \\in \\mathbb{R}^{m\\times \\hat{k}}$, $\\{\\hat{\\Phi}\\}_{ji} = \\phi_j(\\hat{t}_i)$, $\\hat{\\textbf{a}} \\in \\mathbb{R}^{\\hat{k}}$."
   ]
  },
  {
   "cell_type": "markdown",
   "metadata": {},
   "source": [
    "One approach to solving this problem is via a constrained *Nonlinear Least Squares* (NLS) formulation. \n",
    "\n",
    "Let $\\Omega \\equiv [0, 1] \\times [0, 1]$, and with normalisation we may assume  $0 \\leq a_i \\leq 1$.  Then the probelm is \n",
    "\n",
    "\\begin{align*}\n",
    "\\text{minimise}&\\quad f^*(x) = \\frac{1}{2} \\left\\| r(x) \\right\\|_{2}^2,  \\\\ \n",
    "\\text{s.t.}&\\quad0 \\leq x_i \\leq 1, \\quad i=1, 2, \\dots \\hat{k}.\n",
    "\\end{align*}"
   ]
  },
  {
   "cell_type": "markdown",
   "metadata": {},
   "source": [
    "One approach is to consider an unconstrained NLS,\n",
    "\n",
    "\\begin{align*}\n",
    "\\text{minimise}&\\quad f(x) = \\frac{1}{2} \\left\\| r(x) \\right\\|_2^2 + \\alpha |\\max(0, -x)|_1 + \\alpha |\\max(0, x-1)|_1,\n",
    "\\end{align*}\n",
    "\n",
    "(where the $\\max$ function is applied pointwise) which allows the use of classic NLS algorithms."
   ]
  },
  {
   "cell_type": "markdown",
   "metadata": {},
   "source": [
    "For example, the *Gauss-Newton* (GN) method performs updates according to,\n",
    "\n",
    "\\begin{align*}\n",
    "\\mbox{minimise}&\\quad f_m(s) = f(x) + \\nabla f(x)^T s + \\frac{1}{2}s^T B s, \n",
    "\\end{align*}\n",
    "\n",
    "where $B =  J(x)^TJ(x)$, $\\nabla f(x) = J(x) ^ T r(x) + \\alpha G(x)$, "
   ]
  },
  {
   "cell_type": "markdown",
   "metadata": {},
   "source": [
    "\n",
    "\\begin{align*}\n",
    "\\{G(x)\\}_i = \\begin{cases}\n",
    "\\ 1 &\\text{ if } x_i > 1,\\\\\n",
    "-1 &\\text{ if } x_i < 0, \\\\\n",
    "\\ 0 &\\text{ otherwise,}\n",
    "\\end{cases}\n",
    "\\end{align*}\n",
    "\n",
    "and $J \\in \\mathbb{R}^{m\\, \\times\\, \\hat{k}(D + 1)}$ is the Jacobian of $r$.  \n",
    "\n",
    "A popular alternation of GN is the Levenberg- Marquardt method where a damping parameter $\\gamma$ is added $B = J^T J + \\gamma I$."
   ]
  },
  {
   "cell_type": "markdown",
   "metadata": {},
   "source": [
    "In the above,\n",
    "\n",
    "\\begin{align*}\n",
    "r(x) = \\textbf{y} - \\hat{\\Phi}\\hat{\\textbf{a}},\n",
    "\\end{align*}\n",
    "\n",
    "\\begin{align*}\n",
    "\\{J(x)\\}_{jw} &= \\frac{\\partial \\phi_j}{\\partial \\hat{t}_{id}} \\hat{a}_i, \\quad j = 1, 2, \\dots m, \\quad i = 1, 2, \\dots \\hat{k}, \\quad d = 1, 2 \\quad w = i + (d - 1) \\cdot \\hat{k},\\\\\n",
    "\\{J(x)\\}_{jw}  &= \\phi_j(t_i), \\quad j = 1, 2, \\dots m, \\quad i = 1, 2, \\dots \\hat{k}, \\quad w = i + 2\\hat{k}.\n",
    "\\end{align*}"
   ]
  },
  {
   "cell_type": "markdown",
   "metadata": {},
   "source": [
    "Assuming a Gaussian PSF,  \n",
    "\n",
    "\\begin{align*}\n",
    "\\phi_{j}(t) &= \\text{exp}\\left({-\\frac{\\|t - s_{j}\\|_2^2}{\\sigma^2}}\\right), \\\\\n",
    "\\frac{\\partial \\phi_j}{\\partial t_{id}} &= \\frac{2(t_{id} - s_{jd})}{\\sigma^2} \\phi_{j}(t)\n",
    "\\end{align*}\n",
    "\n",
    "where $s_j$ is the spatial position of measurement $j$."
   ]
  },
  {
   "cell_type": "markdown",
   "metadata": {},
   "source": [
    "The number of sources $\\hat{k}$ is unknown.  We proceed as follows:\n",
    "\n",
    "INITIALISE: \n",
    "\n",
    "$x = \\{\\}$, $y = y*$\n",
    "\n",
    "DO:\n",
    "1. find source that results in maximal decrease in residual for measurement $y^*$ and append to $x$\n",
    "2. minimise $f(x)$ for measurement $y$\n",
    "3. update $y^* = \\max(0, y - \\hat{\\Phi}\\hat{a})$\n",
    "\n",
    "WHILE: f(x) > tolerance and iteration limit not reached."
   ]
  },
  {
   "cell_type": "markdown",
   "metadata": {},
   "source": [
    "A rudimentary implementation of the Levenberg- Marquardt method is used in (1) and (2), with a newton linesearch to solve the sub-problem."
   ]
  },
  {
   "cell_type": "markdown",
   "metadata": {},
   "source": [
    "<img src='figs/sr3.gif' width='800'>"
   ]
  },
  {
   "cell_type": "code",
   "execution_count": null,
   "metadata": {},
   "outputs": [],
   "source": []
  },
  {
   "cell_type": "code",
   "execution_count": null,
   "metadata": {},
   "outputs": [],
   "source": []
  }
 ],
 "metadata": {
  "kernelspec": {
   "display_name": "Python 3",
   "language": "python",
   "name": "python3"
  },
  "language_info": {
   "codemirror_mode": {
    "name": "ipython",
    "version": 3
   },
   "file_extension": ".py",
   "mimetype": "text/x-python",
   "name": "python",
   "nbconvert_exporter": "python",
   "pygments_lexer": "ipython3",
   "version": "3.6.8"
  }
 },
 "nbformat": 4,
 "nbformat_minor": 2
}
