{
 "cells": [
  {
   "cell_type": "markdown",
   "metadata": {},
   "source": [
    "## Levenberg Marquardt Algorithm on a Sparse Inverse Probelm "
   ]
  },
  {
   "cell_type": "markdown",
   "metadata": {},
   "source": [
    "#### Nonlinear Least Squares (NLS)\n",
    "An unconstrained NLS problem:\n",
    "\\begin{align}\n",
    "\\text{minimise} f(x) = \\|r(x)\\|_2^2\n",
    "\\end{align}\n",
    "\n",
    "\n",
    "#### Levenberg Marquardt\n",
    "Gradient Descent:\n",
    "\\begin{align}\n",
    "x_{n+1} = x_n - \\gamma \\nabla f(x_n)\n",
    "\\end{align}\n",
    "\n",
    "\n",
    "\n",
    "Gauss Newton Method:\n",
    "\\begin{align}\n",
    "H(x_n)s = -\\nabla f(x_n), \\\\\n",
    "x_{n+1} = x_n + \\gamma s,\n",
    "\\end{align}\n",
    "\n",
    "where $H(x) = J^T(x)J(x)$ is an approximation of the hessian, $J$ is the jacobian of $r$ and $\\nabla f(x) = J^T(x)r(x)$.\n",
    "\n",
    "Levenberg Marquardt:\n",
    "\n",
    "\\begin{align}\n",
    "\\left(H(x_n) + \\lambda I\\right)s = -\\nabla f(x_n), \\\\\n",
    "x_{n+1} = x_n + \\gamma s,\n",
    "\\end{align}\n",
    "\n",
    "for some constant $\\lambda$.\n",
    "\n",
    "* No satisfying theoretical justification for the use of LM, other than \"performs well in practice\"\n",
    "\n",
    "Intuition:\n",
    "* combination of GD and GN\n",
    "* Makes the hessian model more \"bowl shaped\", by incrementing its eigenvalues\n",
    "* Makes large divergent steps less likely \n",
    "\n"
   ]
  },
  {
   "cell_type": "markdown",
   "metadata": {},
   "source": [
    "## The Sparse Superresolution Problem"
   ]
  },
  {
   "cell_type": "markdown",
   "metadata": {},
   "source": [
    "<img src='figs/start2.png' width='800'>"
   ]
  },
  {
   "cell_type": "markdown",
   "metadata": {},
   "source": [
    "Let $k$ light sources be located at points $t_i \\in \\Omega$, where $\\Omega$ is a spatial domain bounded by the extremal measurements.  Each source has a positive amplitude $a_i$, so that the object may be modelled by a discrete measure, $$z = \\sum_{i = 1}^{k} a_i \\delta_{t_i}.$$ \n",
    "\n",
    "The measurement device is characterised by $m$ continuous functions $\\phi_j$, which aim to approximate the measurement device's PSF at a particular location $j$ so that measurements are given by the convolution,\n",
    "\n",
    "\\begin{align*}\n",
    "y_j = \\int_{\\Omega} \\phi_j(t)z(dt) = \\sum_{i=1}^k a_i \\phi_j(t_i), \\ j = 1, 2, \\dots m.\n",
    "\\end{align*}\n",
    "\n",
    "\n",
    "Writing $ \\textbf{y} = [y_1, y_2, \\dots y_m]^T$, $\\Phi = [\\phi_1(t), \\phi_2(t), \\dots \\phi_m(t)]^T$, the localisation problem is to find a sparse measure $\\hat{z} \\geq 0$, from the measurements $\\textbf{y}$, which is achieved by solving,\n",
    "\n",
    "\\begin{align*}\n",
    "\\text{minimise}\\quad\\left\\|\\textbf{y} - \\int_{\\Omega} \\Phi(t) \\hat{z} ({\\rm d}t) \\right\\|_2,\n",
    "\\end{align*}\n",
    "\n",
    "subject to the support of $z$ in $\\Omega$.  This may be rewritten as,\n",
    "\n",
    "\\begin{align*}\n",
    "\\text{minimise}\\quad\\left\\|\\textbf{y} - \\hat{\\Phi}\\hat{\\textbf{a}} \\right\\|_2,\n",
    "\\end{align*}\n",
    "\n",
    "where the hat notation is used to denote estimates of the values charactering the object of interest and $\\hat{\\Phi} \\in \\mathbb{R}^{m\\times \\hat{k}}$, $\\{\\hat{\\Phi}\\}_{ji} = \\phi_j(\\hat{t}_i)$, $\\hat{\\textbf{a}} \\in \\mathbb{R}^{\\hat{k}}$."
   ]
  },
  {
   "cell_type": "markdown",
   "metadata": {},
   "source": [
    "### An NLS formulation of the SRP\n",
    "\n",
    "Let $\\Omega \\equiv [0, 1] \\times [0, 1]$, and with normalisation we may assume  $0 \\leq a_i \\leq 1$.  Then the problem is \n",
    "\n",
    "\\begin{align*}\n",
    "\\text{minimise}&\\quad f^*(x) = \\frac{1}{2} \\left\\| r(x) \\right\\|_{2}^2,  \\\\ \n",
    "\\text{s.t.}&\\quad0 \\leq x_i \\leq 1, \\quad i=1, 2, \\dots \\hat{k},\n",
    "\\end{align*}\n",
    "\n",
    "where $r(x) = \\textbf{y} - \\hat{\\Phi}\\hat{\\textbf{a}}$,  $x = [t_{1,1} \\dots t_{\\hat{k},1}, t_{1, 2}, \\dots t_{\\hat{k}, 2}, a_1, \\dots a_{\\hat{k}} ]. $  Converting the contraints to a penalty function and considering the unconstrained NLS,\n",
    "\n",
    "\\begin{align*}\n",
    "\\text{minimise}&\\quad f(x) = \\frac{1}{2} \\left\\| r(x) \\right\\|_2^2 + \\frac{\\alpha}{2} \\left\\| c(x) \\right\\|_2^2 ,\n",
    "\\end{align*}\n",
    "\n",
    "where \n",
    "\n",
    "\\begin{align*}\n",
    "\\{c(x)\\}_i = \\begin{cases}\n",
    "x_i - b_u &\\text{ if } x_i > b_u,\\\\\n",
    "b_l - x_i &\\text{ if } x_i < b_l, \\\\\n",
    "\\ 0 &\\text{ otherwise,}\n",
    "\\end{cases}\n",
    "\\end{align*}\n",
    "\n",
    "$b_l = 0,\\ b_u = 1$"
   ]
  },
  {
   "cell_type": "markdown",
   "metadata": {},
   "source": [
    "### Iterative LM for SRP\n",
    "\n",
    "INITIALISE: \n",
    "\n",
    "$x = \\{\\}$, $y = y*$\n",
    "\n",
    "DO:\n",
    "1. minimise $f(x_{\\text{new}})$ for $y^*$ and append $x_{\\text{new}}$ to $x$\n",
    "2. minimise $f(x)$ for measurement $y$\n",
    "3. update $y^* = \\max(0, y - \\hat{\\Phi}\\hat{a})$\n",
    "\n",
    "WHILE: $f(x) >$ tolerance and iteration limit not reached."
   ]
  },
  {
   "cell_type": "markdown",
   "metadata": {},
   "source": [
    "### Implementation"
   ]
  },
  {
   "cell_type": "code",
   "execution_count": 6,
   "metadata": {},
   "outputs": [],
   "source": [
    "import numpy as np\n",
    "import matplotlib.pyplot as plt\n",
    "\n",
    "C_CONST = 0.1  # the constraints constant\n",
    "V = 10**-10    # parameter added to hessian inside LM\n",
    "LB = 0         # constraint lower bound\n",
    "UB = 1         # constraint upper bound\n",
    "##C_STEP = 0.1\n"
   ]
  },
  {
   "cell_type": "markdown",
   "metadata": {},
   "source": [
    "Set up a SR probelm in 2-D:"
   ]
  },
  {
   "cell_type": "code",
   "execution_count": 7,
   "metadata": {},
   "outputs": [],
   "source": [
    "class TwoDimSrProblem:\n",
    "    def __init__(self, k, va, m_sr, psf):\n",
    "        self.k = k\n",
    "        self.m = m_sr**2\n",
    "\n",
    "        self.t = np.random.random([k, 2])\n",
    "        self.a = 0.5 * np.ones(k) + va * np.random.random(k) - va / 2\n",
    "\n",
    "        m1, m2 = np.meshgrid(np.linspace(0, 1, m_sr), np.linspace(0, 1, m_sr))\n",
    "        self.ml = np.stack([m1.flatten(), m2.flatten()]).transpose()\n",
    "        self.S = np.matmul(phi(self.t, self.ml, psf), self.a)"
   ]
  },
  {
   "cell_type": "markdown",
   "metadata": {},
   "source": [
    "Helper functions to transform the shape of the variable vector between calculations:"
   ]
  },
  {
   "cell_type": "code",
   "execution_count": 8,
   "metadata": {},
   "outputs": [],
   "source": [
    "def split_x(x):\n",
    "    k = int(len(x) / 3)\n",
    "    return x[0:(k * 2)].reshape([2, k]).transpose(), x[(k * 2):]\n",
    "\n",
    "\n",
    "def flat_x(t, a):\n",
    "    k, d = t.shape\n",
    "    t = np.concatenate([t[:, i].flatten() for i in range(d)])\n",
    "    return np.concatenate([t, a])"
   ]
  },
  {
   "cell_type": "markdown",
   "metadata": {},
   "source": [
    "Assuming a Gaussian PSF,  \n",
    "\n",
    "\\begin{align*}\n",
    "\\phi_{j}(t) &= \\text{exp}\\left({-\\frac{\\|t - s_{j}\\|_2^2}{\\sigma^2}}\\right), \\\\\n",
    "\\frac{\\partial \\phi_j}{\\partial t_{id}} &= \\frac{-2(t_{id} - s_{jd})}{\\sigma^2} \\phi_{j}(t)\n",
    "\\end{align*}\n",
    "\n",
    "where $s_j$ is the spatial position of measurement $j$."
   ]
  },
  {
   "cell_type": "code",
   "execution_count": 9,
   "metadata": {},
   "outputs": [],
   "source": [
    "class GaussianPSF:\n",
    "    def __init__(self, sig):\n",
    "        self.sig = sig\n",
    "\n",
    "    def psf(self, l, t):\n",
    "        return np.exp(-np.sum((t - l) ** 2) / (self.sig ** 2))\n",
    "\n",
    "    def d_psf(self, l, t, d):\n",
    "        return - 2 * (t[d] - l[d]) * self.psf(t, l) / self.sig ** 2"
   ]
  },
  {
   "cell_type": "markdown",
   "metadata": {},
   "source": [
    "Build the matrix $\\hat{\\Phi} \\in \\mathbb{R}^{m\\times \\hat{k}}$, $\\{\\hat{\\Phi}\\}_{ji} = \\phi_j(\\hat{t}_i)$"
   ]
  },
  {
   "cell_type": "code",
   "execution_count": 10,
   "metadata": {},
   "outputs": [],
   "source": [
    "def phi(th, ml, psf):\n",
    "    m, _ = ml.shape\n",
    "    k, _ = th.shape\n",
    "    p = np.zeros([m, k])\n",
    "    for i in range(m):\n",
    "        for j in range(k):\n",
    "            p[i, j] = psf.psf(ml[i, :], th[j, :])\n",
    "    return p"
   ]
  },
  {
   "cell_type": "markdown",
   "metadata": {},
   "source": [
    "$r(x) = \\textbf{y} - \\hat{\\Phi}\\hat{\\textbf{a}}$"
   ]
  },
  {
   "cell_type": "code",
   "execution_count": null,
   "metadata": {},
   "outputs": [],
   "source": [
    "def res(th, ah, ml, s, psf):\n",
    "    return np.matmul(phi(th, ml, psf), ah) - s"
   ]
  },
  {
   "cell_type": "markdown",
   "metadata": {},
   "source": [
    "\\begin{align*}\n",
    "\\{J_1(x)\\}_{jw} &= \\frac{\\partial \\phi_j}{\\partial \\hat{t}_{id}} \\hat{a}_i, \\quad j = 1, 2, \\dots m, \\quad i = 1, 2, \\dots \\hat{k}, \\quad d = 1, 2 \\quad w = i + (d - 1) \\cdot \\hat{k},\\\\\n",
    "\\{J_1(x)\\}_{jw}  &= \\phi_j(t_i), \\quad j = 1, 2, \\dots m, \\quad i = 1, 2, \\dots \\hat{k}, \\quad w = i + 2\\hat{k},\n",
    "\\end{align*}"
   ]
  },
  {
   "cell_type": "code",
   "execution_count": null,
   "metadata": {},
   "outputs": [],
   "source": [
    "def jac(th, ah, ml, psf):\n",
    "    m, d = ml.shape\n",
    "    k, _ = th.shape\n",
    "\n",
    "    jc = np.zeros([m, k * (d + 1)])\n",
    "\n",
    "    for i in range(m):\n",
    "        for dd in range(d):\n",
    "            for j in range(k):\n",
    "                jc[i, j + dd * k] = psf.d_psf(ml[i, :], th[j, :], dd) * ah[j]\n",
    "\n",
    "        for j in range(k):\n",
    "            jc[i, j + d * k] = psf.psf(ml[i, :], th[j, :])\n",
    "\n",
    "    return j"
   ]
  },
  {
   "cell_type": "markdown",
   "metadata": {},
   "source": [
    "The constraint penalty funciton"
   ]
  },
  {
   "cell_type": "code",
   "execution_count": 11,
   "metadata": {},
   "outputs": [],
   "source": [
    "class Constraints:\n",
    "    def __init__(self, lb, ub, c_const):\n",
    "        self.lb = lb\n",
    "        self.ub = ub\n",
    "        self.c_const = c_const\n",
    "\n",
    "    def constraints_active(self, x):\n",
    "        return np.any(x < self.lb) or np.any(x > self.ub)\n",
    "\n",
    "    def penalty_sq(self, x):  # squared constraint penalty function\n",
    "        if self.constraints_active(x):\n",
    "            return self.c_const * (np.sum(x[x < self.lb]**2) + np.sum(x[x > self.ub]**2)) / 2\n",
    "        else:\n",
    "            return 0\n",
    "\n",
    "    def derivative_sq(self, x):   # the derivative of the full constraint term\n",
    "        cg = np.zeros_like(x)\n",
    "        cg[x < self.lb] = x[x < self.lb] - self.lb\n",
    "        cg[x > self.ub] = x[x > self.ub] - self.ub\n",
    "        return self.c_const * cg\n",
    "\n",
    "    def hes_sq(self, x):  # the hessian of c(x)\n",
    "        v = np.abs(self.derivative(x))\n",
    "        h = np.diag(v)\n",
    "        return h\n",
    "    \n",
    "    def penalty(self, x):  # 1-norm constraint penalty function\n",
    "        return self.c_const * (np.sum(np.abs(x[x < self.lb])) + np.sum(np.abs(x[x > self.ub])))\n",
    "\n",
    "    \n",
    "    def derivative(self, x):\n",
    "        cg = np.zeros_like(x)\n",
    "        cg[x < self.lb] = - 1\n",
    "        cg[x > self.ub] = 1\n",
    "        return self.c_const * cg\n",
    "    \n",
    "    \n",
    "    \n",
    "    "
   ]
  },
  {
   "cell_type": "markdown",
   "metadata": {},
   "source": [
    "Implementation of LM"
   ]
  },
  {
   "cell_type": "code",
   "execution_count": 12,
   "metadata": {},
   "outputs": [],
   "source": [
    "class LM:\n",
    "    def __init__(self, start_x, jac_lm, res_lm, v, max_iter, tol, lb=LB, ub=UB, c_const=C_CONST):\n",
    "        self.tol = tol\n",
    "        self.max_iter = max_iter\n",
    "        self.jac = jac_lm\n",
    "        self.res = res_lm\n",
    "        self.con = Constraints(lb=lb, ub=ub, c_const=c_const)\n",
    "        self.v = v\n",
    "        self.step_size = C_STEP\n",
    "        self.s = np.zeros_like(start_x)\n",
    "        self.lx = len(start_x)\n",
    "        self.x = start_x\n",
    "        self.count = 0\n",
    "        self.rl = []\n",
    "        self.xl = []\n",
    "\n",
    "    def iterate_ns(self, verbose=True):\n",
    "        g = np.sum(self.gradient(self.x) ** 2)\n",
    "        \n",
    "        while self.count < self.max_iter and g > self.tol:\n",
    "            self.calculate_dir(self.x)\n",
    "            self.newton_line_search()\n",
    "            self.x += self.step_size * self.s\n",
    "            \n",
    "            self.count += 1\n",
    "            g = np.sum(self.gradient(self.x) ** 2)\n",
    "            r = self.residual(self.x)\n",
    "            self.rl.append(r)\n",
    "            self.xl.append(self.x.copy())\n",
    "            \n",
    "            if verbose:\n",
    "                print('it:{0:4}   res:{1:25}  steps:{2:25}   grad:{3:25}'.format(self.count, r, self.step_size, g))\n",
    "\n",
    "    def calculate_dir(self, xc):\n",
    "        h = self.hessian_model(xc)\n",
    "        self.s = - np.linalg.solve(h, self.gradient(xc))\n",
    "        return self.s\n",
    "\n",
    "    def gradient(self, x):\n",
    "        g = np.matmul(self.jac(x).transpose(), self.res(x))\n",
    "        return g + self.con.derivative_sq(x)\n",
    "\n",
    "    def hessian_model(self, x):\n",
    "        return np.matmul(self.jac(x).transpose(), self.jac(x)) + np.eye(self.lx) * self.v + self.con.hes_sq(x)\n",
    "\n",
    "    def residual(self, xc):\n",
    "        return 0.5 * np.dot(self.res(xc), self.res(xc)) + self.con.penalty_sq(xc)\n",
    "\n",
    "    def newton_line_search(self):\n",
    "        self.step_size = 0\n",
    "        for i in range(5):\n",
    "            df = np.dot(self.gradient(self.x + self.step_size * self.s), self.s)\n",
    "            ddf = np.dot(self.s, np.matmul(self.hessian_model(self.x + self.step_size * self.s), self.s))\n",
    "            self.step_size -= df / ddf\n",
    "\n",
    "    def plot_r(self):\n",
    "        plt.plot(self.rl)\n",
    "        plt.yscale('log')\n",
    "        plt.xlabel('Iterations')\n",
    "        plt.ylabel('Residual')\n",
    "        plt.show()\n",
    "        "
   ]
  },
  {
   "cell_type": "markdown",
   "metadata": {},
   "source": [
    "Implementation of iterative LM for sparse inverse problem:\n",
    "\n",
    "INITIALISE: \n",
    "\n",
    "$x = \\{\\}$, $y = y*$\n",
    "\n",
    "DO:\n",
    "1. minimise $f(x_{\\text{new}})$ for $y^*$ and append $x_{\\text{new}}$ to $x$\n",
    "2. minimise $f(x)$ for measurement $y$\n",
    "3. update $y^* = \\max(0, y - \\hat{\\Phi}\\hat{a})$\n",
    "\n",
    "WHILE: $f(x) >$ tolerance and iteration limit not reached.\n"
   ]
  },
  {
   "cell_type": "code",
   "execution_count": 13,
   "metadata": {},
   "outputs": [],
   "source": [
    "class SrSolver:\n",
    "    def __init__(self, ml, s, psf, max_iter, res_tol):\n",
    "        self.max_iter = max_iter\n",
    "        self.ml = ml\n",
    "        self.S = s\n",
    "        self.cS = s.copy()\n",
    "        self.res_tol = res_tol\n",
    "        self.init_x = np.array([0.5, 0.5, 1])\n",
    "        self.x = np.array([])\n",
    "        self.psf = psf\n",
    "        self.rl = []\n",
    "        self.xl = []\n",
    "        \n",
    "    def solve(self):\n",
    "        count = 0\n",
    "        r = self.residual()\n",
    "        self.x = self.find_insert()\n",
    "\n",
    "        while r > self.res_tol and count < self.max_iter:\n",
    "\n",
    "            self.update_cs()\n",
    "            self.append_to_x(self.find_insert())\n",
    "\n",
    "            lm = LM(self.x, self.g_jac, self.g_res, V, 30, 10 ** - 6)\n",
    "            lm.iterate_ns(verbose=True)\n",
    "\n",
    "            self.x = lm.x\n",
    "            self.rl = self.rl + lm.rl\n",
    "            self.xl = self.xl + lm.xl\n",
    "\n",
    "            r = self.residual()\n",
    "            count += 1\n",
    "\n",
    "    def g_res(self, x):\n",
    "        t, a = split_x(x)\n",
    "        return res(t, a, self.ml, self.S, self.psf)\n",
    "\n",
    "    def fi_res(self, x):\n",
    "        t, a = split_x(x)\n",
    "        return res(t, a, self.ml, self.cS, self.psf)\n",
    "\n",
    "    def g_jac(self, x):\n",
    "        t, a = split_x(x)\n",
    "        return jac(t, a, self.ml, self.psf)\n",
    "\n",
    "    def find_insert(self):\n",
    "        lm = LM(self.init_x, self.g_jac, self.fi_res, V, 10, 10 ** -5)\n",
    "        lm.iterate_ns(verbose=False)\n",
    "        return lm.x\n",
    "\n",
    "    def append_to_x(self, new_x):\n",
    "        t, a = split_x(self.x)\n",
    "        tn, an = split_x(new_x)\n",
    "        t = np.concatenate([t, tn])\n",
    "        a = np.concatenate([a, an])\n",
    "        self.x = flat_x(t, a)\n",
    "\n",
    "    def current_signal(self):\n",
    "        t, a = split_x(self.x)\n",
    "        return np.matmul(phi(t, self.ml, self.psf), a)\n",
    "\n",
    "    def update_cs(self):\n",
    "        self.cS -= self.current_signal()\n",
    "        self.cS[self.cS < 0] = 0\n",
    "\n",
    "    def residual(self):\n",
    "        return np.dot(self.g_res(self.x), self.g_res(self.x))\n",
    "\n",
    "    "
   ]
  },
  {
   "cell_type": "markdown",
   "metadata": {},
   "source": [
    "A test run:"
   ]
  },
  {
   "cell_type": "code",
   "execution_count": 14,
   "metadata": {},
   "outputs": [
    {
     "name": "stdout",
     "output_type": "stream",
     "text": [
      "it:   1   res:        2.052776613839663  steps:       1.0567351895694301   grad:       2.5262208472380268\n",
      "it:   2   res:       0.8868469228206559  steps:        3.823560088619761   grad:       1.8329800968925882\n",
      "it:   3   res:         0.78081594604114  steps:       2.0666540859880804   grad:       0.1084285917497259\n",
      "it:   4   res:       0.7762178557461221  steps:       1.1602719372704307   grad:     0.012310598463359603\n",
      "it:   5   res:       0.7757174189187336  steps:        1.698326337758952   grad:    0.0009592581320416694\n",
      "it:   6   res:       0.7756717366070679  steps:       1.1777794137243085   grad:   0.00012119151221585876\n",
      "it:   7   res:       0.5400019565197126  steps:       13.509335027690003   grad:       2.2387175655577725\n",
      "it:   8   res:       0.2878480285088494  steps:       0.9654941707691294   grad:         4.04723551685665\n",
      "it:   9   res:      0.14477813236688453  steps:       1.1033917610942838   grad:      0.15797896589695132\n",
      "it:  10   res:       0.1418584056406091  steps:       1.0559802125398217   grad:    0.0006350550699349646\n",
      "it:  11   res:        0.142007732077594  steps:       1.6025101309515106   grad:    1.665747883175022e-05\n",
      "it:  12   res:       0.1420000367225292  steps:       1.0937851109784573   grad:    4.441001942081502e-07\n",
      "it:   1   res:      0.11179513477950576  steps:       0.8479888857471004   grad:       0.2410332173688822\n",
      "it:   2   res:       0.0355876902793056  steps:       1.1502710826275209   grad:      0.06488381624956109\n",
      "it:   3   res:     0.024761353091491297  steps:       1.0511666122386667   grad:      0.04444845918703045\n",
      "it:   4   res:      0.01984135400409817  steps:        1.316635078498334   grad:      0.01029731966435293\n",
      "it:   5   res:     0.019263902227165088  steps:        1.369460920375884   grad:    0.0009747054225490474\n",
      "it:   6   res:     0.019138680462506906  steps:       1.6023946696764966   grad:   0.00024418506390729326\n",
      "it:   7   res:     0.019107321898521733  steps:       1.4067420910168362   grad:    6.792741547568924e-05\n",
      "it:   8   res:      0.01909852449876803  steps:        1.607013625970996   grad:   1.6298871440885756e-05\n",
      "it:   9   res:      0.01909604560623045  steps:       1.4260582908114214   grad:    5.553428590109664e-06\n",
      "it:  10   res:     0.019095321770734804  steps:        1.596465791095475   grad:   1.3685019074578503e-06\n",
      "it:  11   res:      0.01909511093130574  steps:       1.4400885536598484   grad:    4.787673526337481e-07\n",
      "it:   1   res:      0.01776127960000562  steps:       2.1570326437157403   grad:    0.0060094085710051285\n",
      "it:   2   res:      0.01575990759866905  steps:       2.1396677786807032   grad:     0.011676858864644254\n",
      "it:   3   res:     0.010309606222095372  steps:       2.3866343111850687   grad:     0.049808906246505746\n",
      "it:   4   res:    0.0026326305711311514  steps:       1.3034571076558812   grad:     0.010483488501994924\n",
      "it:   5   res:   0.00033508936492362745  steps:       1.2738990158984826   grad:      0.00398078666535208\n",
      "it:   6   res:    2.480223634330759e-05  steps:       1.1476687009027926   grad:   0.00012694970534244012\n",
      "it:   7   res:    5.998152258248234e-06  steps:       1.4758884001484924   grad:    3.133638160321782e-05\n",
      "it:   8   res:   2.5796195647761313e-06  steps:       1.5940220167315386   grad:   1.0236851031791626e-05\n",
      "it:   9   res:   1.1828491040268706e-06  steps:       1.7638520338485566   grad:   5.9096433226044185e-06\n",
      "it:  10   res:    5.441598682719642e-07  steps:       1.6417613405473759   grad:     2.30608243290679e-06\n",
      "it:  11   res:   2.5124191394611105e-07  steps:        1.736829513792049   grad:   1.2239705333483635e-06\n",
      "it:  12   res:   1.1612612675548598e-07  steps:       1.6613169234434826   grad:    5.129675629353438e-07\n"
     ]
    }
   ],
   "source": [
    "np.random.seed(6)\n",
    "\n",
    "SIG = 0.3\n",
    "M_SQ = 6\n",
    "V_A = 0.15\n",
    "K = 4\n",
    "\n",
    "psf = GaussianPSF(SIG)\n",
    "sp = TwoDimSrProblem(K, V_A, M_SQ, psf)\n",
    "\n",
    "solver = SrSolver(sp.ml, sp.S, psf, 7, 10 ** -6)\n",
    "solver.solve()\n",
    "\n",
    "np.save('sr_run', [sp.t, sp.a, sp.ml, sp.S, SIG, solver.xl, solver.rl])"
   ]
  },
  {
   "cell_type": "markdown",
   "metadata": {},
   "source": [
    "<img src='figs/sr4_2.gif' width='800'>"
   ]
  },
  {
   "cell_type": "markdown",
   "metadata": {},
   "source": [
    "#### Generating the animation "
   ]
  },
  {
   "cell_type": "code",
   "execution_count": 20,
   "metadata": {},
   "outputs": [
    {
     "data": {
      "image/png": "[encoded data removed]",
      "text/plain": [
       "<Figure size 792x360 with 4 Axes>"
      ]
     },
     "metadata": {
      "needs_background": "light"
     },
     "output_type": "display_data"
    }
   ],
   "source": [
    "import numpy as np\n",
    "import matplotlib.pyplot as plt\n",
    "from mpl_toolkits.mplot3d import Axes3D\n",
    "from mpl_toolkits.mplot3d.art3d import Line3DCollection\n",
    "from matplotlib import animation\n",
    "from matplotlib.gridspec import GridSpec\n",
    "import src\n",
    "\n",
    "[t, a, ml, S, sig, xl, rl] = np.load('sr_run.npy')\n",
    "k = len(a)\n",
    "m = int(np.sqrt(len(S)))\n",
    "psf = src.GaussianPSF(sig)\n",
    "\n",
    "\n",
    "def make_image_s(mls, x):\n",
    "    t_h, a_h = src.split_x(x)\n",
    "    s = np.matmul(src.phi(t_h, mls, psf), a_h)\n",
    "    return s.reshape([m, m]) * -1 + max(s)\n",
    "\n",
    "\n",
    "fig = plt.figure(figsize=(11, 5))\n",
    "ax1 = fig.add_subplot(GridSpec(2, 4).new_subplotspec((0, 0), colspan=1), aspect='equal',\n",
    "                      autoscale_on=False, xlim=(-0.5, m-0.5), ylim=(-0.5, m-0.5))\n",
    "\n",
    "ax1.imshow(S.reshape([m, m]) * -1 + max(S), cmap='Greys')\n",
    "ax1.axis('off')\n",
    "ax1.set_title('Input Image')\n",
    "\n",
    "ax4 = fig.add_subplot(GridSpec(2, 4).new_subplotspec((0, 2), colspan=2, rowspan=2), aspect='equal',\n",
    "                      autoscale_on=False, projection='3d', xlim=(0, 1), ylim=(0, 1), zlim=(0, 1))\n",
    "\n",
    "ax2 = fig.add_subplot(GridSpec(2, 4).new_subplotspec((0, 1), colspan=1, rowspan=1), aspect='equal',\n",
    "                      autoscale_on=False, xlim=(-0.5, m-0.5), ylim=(-0.5, m-0.5))\n",
    "ax2.imshow(S.reshape([m, m]) * -1 + max(S), cmap='Greys')\n",
    "ax2.axis('off')\n",
    "ax2.set_title('Estimate Signal')\n",
    "\n",
    "ax3 = fig.add_subplot(GridSpec(2, 4).new_subplotspec((1, 0), colspan=2), autoscale_on=False,\n",
    "                      xlim=(0, len(rl)-1), ylim=(min(rl), max(rl)), yscale='log')\n",
    "\n",
    "line, = ax3.plot([], [])\n",
    "ax3.set_xlabel('Iterations')\n",
    "ax3.set_ylabel('Residual')\n",
    "\n",
    "\n",
    "tops = np.block([t, a.reshape([k, 1])])\n",
    "bottoms = np.block([t, np.zeros([k, 1])])\n",
    "lines = [[list(s0), list(s1)] for s0, s1 in zip(tops, bottoms)]\n",
    "lines = Line3DCollection(lines)\n",
    "ax4.add_collection3d(lines)\n",
    "ax4.scatter(t[:, 0], t[:, 1], a, s=50, label='True Sources')\n",
    "\n",
    "th, ah = src.split_x(xl[0])\n",
    "est = ax4.scatter(th[:, 0], th[:, 1], ah, marker='x', s=60, c='r', label='Estimates')\n",
    "ax4.legend()\n",
    "\n",
    "\n",
    "def animate(i):\n",
    "    t_h, a_h = src.split_x(xl[i])\n",
    "    est._offsets3d = (t_h[:, 0], t_h[:, 1], a_h)\n",
    "    line.set_data(range(i+1), rl[0:i+1])\n",
    "    ax2.imshow(make_image_s(ml, xl[i]), cmap='Greys')\n",
    "\n",
    "\n",
    "#anim = animation.FuncAnimation(fig, animate, frames=len(xl), interval=200, blit=False)\n",
    "#anim.save('figs/sr4.gif', writer='imagemagick', fps=4)"
   ]
  }
 ],
 "metadata": {
  "kernelspec": {
   "display_name": "Python 3",
   "language": "python",
   "name": "python3"
  },
  "language_info": {
   "codemirror_mode": {
    "name": "ipython",
    "version": 3
   },
   "file_extension": ".py",
   "mimetype": "text/x-python",
   "name": "python",
   "nbconvert_exporter": "python",
   "pygments_lexer": "ipython3",
   "version": "3.6.8"
  }
 },
 "nbformat": 4,
 "nbformat_minor": 2
}
